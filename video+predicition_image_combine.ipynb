{
  "nbformat": 4,
  "nbformat_minor": 0,
  "metadata": {
    "colab": {
      "name": "video+predicition_image_combine.ipynb",
      "private_outputs": true,
      "provenance": [],
      "collapsed_sections": [],
      "authorship_tag": "ABX9TyM0advqzXq6na9te258q2Wc",
      "include_colab_link": true
    },
    "kernelspec": {
      "name": "python3",
      "display_name": "Python 3"
    },
    "language_info": {
      "name": "python"
    },
    "accelerator": "GPU"
  },
  "cells": [
    {
      "cell_type": "markdown",
      "metadata": {
        "id": "view-in-github",
        "colab_type": "text"
      },
      "source": [
        "<a href=\"https://colab.research.google.com/github/pmsk98/medical_video_segmentation/blob/main/video%2Bpredicition_image_combine.ipynb\" target=\"_parent\"><img src=\"https://colab.research.google.com/assets/colab-badge.svg\" alt=\"Open In Colab\"/></a>"
      ]
    },
    {
      "cell_type": "code",
      "metadata": {
        "id": "aHqtNO7uIdXH"
      },
      "source": [
        "from google.colab import drive\n",
        "drive.mount('/content/gdrive')"
      ],
      "execution_count": null,
      "outputs": []
    },
    {
      "cell_type": "code",
      "metadata": {
        "id": "Nn-5-GEkY1E4"
      },
      "source": [
        "import os\n",
        "import pandas as pd\n",
        "DATA_DIR ='/content/gdrive/My Drive/경진대회/Kvasir-SEG/'\n",
        "\n",
        "\n",
        "image_list = os.listdir('/content/gdrive/My Drive/경진대회/Kvasir-SEG/video_frame1')\n",
        "mask_list = os.listdir('/content/gdrive/My Drive/경진대회/Kvasir-SEG/video1_prediction_unet_dpn131')\n",
        "\n"
      ],
      "execution_count": null,
      "outputs": []
    },
    {
      "cell_type": "code",
      "metadata": {
        "id": "hayJTudqasIf"
      },
      "source": [
        "metadata_df = pd.DataFrame({'png_image_path':image_list,'png_mask_path':mask_list})"
      ],
      "execution_count": null,
      "outputs": []
    },
    {
      "cell_type": "code",
      "metadata": {
        "id": "8Nep_nmEa9q7"
      },
      "source": [
        "DATA_DIR ='/content/gdrive/My Drive/경진대회/Kvasir-SEG/video_frame1/'\n",
        "\n",
        "\n",
        "metadata_df['png_image_path'] = metadata_df['png_image_path'].apply(lambda img_pth: os.path.join(DATA_DIR, img_pth))"
      ],
      "execution_count": null,
      "outputs": []
    },
    {
      "cell_type": "code",
      "metadata": {
        "id": "D0UiuvCJa-dy"
      },
      "source": [
        "DATA_DIR ='/content/gdrive/My Drive/경진대회/Kvasir-SEG/video1_prediction_unet_dpn131/'\n",
        "\n",
        "\n",
        "metadata_df['png_mask_path'] = metadata_df['png_mask_path'].apply(lambda img_pth: os.path.join(DATA_DIR, img_pth))"
      ],
      "execution_count": null,
      "outputs": []
    },
    {
      "cell_type": "code",
      "metadata": {
        "id": "aQYQB47GbS9-"
      },
      "source": [
        "metadata_df"
      ],
      "execution_count": null,
      "outputs": []
    },
    {
      "cell_type": "code",
      "metadata": {
        "id": "zpSB_PGzbDyC"
      },
      "source": [
        "##### Addweighted ###\n",
        "\n",
        "import cv2\n",
        "import numpy as np\n",
        "import matplotlib.pylab as plt\n",
        "from google.colab.patches import cv2_imshow\n",
        "\n"
      ],
      "execution_count": null,
      "outputs": []
    },
    {
      "cell_type": "code",
      "metadata": {
        "id": "mPKbRBh1bn0-"
      },
      "source": [
        "sample_preds_folder = '/content/gdrive/My Drive/경진대회/Kvasir-SEG/video1_frame_pred_combine_unet_dpn131/'\n",
        "if not os.path.exists(sample_preds_folder):\n",
        "    os.makedirs(sample_preds_folder)"
      ],
      "execution_count": null,
      "outputs": []
    },
    {
      "cell_type": "code",
      "metadata": {
        "id": "OnXbgMhPbK8Q"
      },
      "source": [
        "for i in range(len(metadata_df)):\n",
        "    room = cv2.imread(metadata_df['png_image_path'][i])\n",
        "    logo = cv2.imread(metadata_df['png_mask_path'][i])\n",
        "\n",
        "    #--- Resizing the logo to the shape of room image ---\n",
        "    logo = cv2.resize(logo, (room.shape[1], room.shape[0]))\n",
        "\n",
        "\n",
        "    dst = cv2.addWeighted(room, 0.8, logo, 0.3, 0)\n",
        "\n",
        "# 원본1, 원본2, 블렌딩 이미지 화면 출력\n",
        "\n",
        "    \n",
        "\n",
        "    cv2.imwrite(os.path.join(sample_preds_folder, f\"sample_pred_{i}.png\"),dst)\n",
        "\n"
      ],
      "execution_count": null,
      "outputs": []
    },
    {
      "cell_type": "code",
      "metadata": {
        "id": "Mpx2LfXajzwm"
      },
      "source": [
        "\n",
        "image_list = os.listdir('/content/gdrive/My Drive/경진대회/Kvasir-SEG/video1_frame_pred_combine_unet_dpn131')\n",
        "\n",
        "metadata_df = pd.DataFrame({'png_image_path':image_list})\n",
        "\n",
        "DATA_DIR ='/content/gdrive/My Drive/경진대회/Kvasir-SEG/video1_frame_pred_combine_unet_dpn131/'\n",
        "\n",
        "\n",
        "metadata_df['png_image_path'] = metadata_df['png_image_path'].apply(lambda img_pth: os.path.join(DATA_DIR, img_pth))\n"
      ],
      "execution_count": null,
      "outputs": []
    },
    {
      "cell_type": "code",
      "metadata": {
        "id": "wuThoawki3Y_"
      },
      "source": [
        "img_array = []\n",
        "for filename in metadata_df['png_image_path']:\n",
        "    img = cv2.imread(filename)\n",
        "    height, width, layers = img.shape\n",
        "    size = (width,height)\n",
        "    img_array.append(img)\n",
        " \n",
        " "
      ],
      "execution_count": null,
      "outputs": []
    },
    {
      "cell_type": "code",
      "metadata": {
        "id": "jrPDr4Z0i9bI"
      },
      "source": [
        "out = cv2.VideoWriter('/content/gdrive/My Drive/경진대회/Kvasir-SEG/another_sample_unet_dpn131_seg.avi',cv2.VideoWriter_fourcc(*'DIVX'), 15, size)\n",
        " \n",
        "for i in range(len(img_array)):\n",
        "    out.write(img_array[i])\n",
        "out.release()"
      ],
      "execution_count": null,
      "outputs": []
    },
    {
      "cell_type": "code",
      "metadata": {
        "id": "kAWbqpyHjot3"
      },
      "source": [
        ""
      ],
      "execution_count": null,
      "outputs": []
    }
  ]
}